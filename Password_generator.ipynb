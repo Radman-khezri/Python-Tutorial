{
  "cells": [
    {
      "cell_type": "markdown",
      "metadata": {
        "id": "view-in-github",
        "colab_type": "text"
      },
      "source": [
        "<a href=\"https://colab.research.google.com/github/Radman-khezri/Python-Tutorial/blob/main/Password_generator.ipynb\" target=\"_parent\"><img src=\"https://colab.research.google.com/assets/colab-badge.svg\" alt=\"Open In Colab\"/></a>"
      ]
    },
    {
      "cell_type": "code",
      "execution_count": null,
      "id": "8bfd5081",
      "metadata": {
        "colab": {
          "base_uri": "https://localhost:8080/"
        },
        "id": "8bfd5081",
        "outputId": "42f8d4fc-8f76-40b3-f36a-de36be66b8c2"
      },
      "outputs": [
        {
          "output_type": "stream",
          "name": "stdout",
          "text": [
            "Enter your password : ljsjbaxkn\n",
            "sorry, Your password is not strong enough!\n"
          ]
        }
      ],
      "source": [
        "import string\n",
        "\n",
        "alphabet = string.ascii_letters\n",
        "special_char = '!@#$%^&*()'\n",
        "\n",
        "upper = alphabet[alphabet.find('A'):]\n",
        "#print(upper)\n",
        "\n",
        "def check_password(password):\n",
        "    flag_upper = False\n",
        "    flag_special = False\n",
        "    flag_length = False\n",
        "\n",
        "    if len(password) > 8:\n",
        "        flag_length = True\n",
        "    for p in password:\n",
        "        if p in upper:\n",
        "            flag_upper = True\n",
        "        if p in special_char:\n",
        "            flag_special = True\n",
        "\n",
        "    if flag_upper and flag_special and flag_length:\n",
        "        print('Perfect! Your password is secure ')\n",
        "    else:\n",
        "        print('sorry, Your password is not strong enough!')\n",
        "\n",
        "\n",
        "password = input('Enter your password : ')\n",
        "check_password(password)\n"
      ]
    },
    {
      "cell_type": "code",
      "execution_count": null,
      "id": "2116c47e",
      "metadata": {
        "id": "2116c47e"
      },
      "outputs": [],
      "source": []
    }
  ],
  "metadata": {
    "kernelspec": {
      "display_name": "Python 3 (ipykernel)",
      "language": "python",
      "name": "python3"
    },
    "language_info": {
      "codemirror_mode": {
        "name": "ipython",
        "version": 3
      },
      "file_extension": ".py",
      "mimetype": "text/x-python",
      "name": "python",
      "nbconvert_exporter": "python",
      "pygments_lexer": "ipython3",
      "version": "3.11.5"
    },
    "colab": {
      "provenance": [],
      "include_colab_link": true
    }
  },
  "nbformat": 4,
  "nbformat_minor": 5
}